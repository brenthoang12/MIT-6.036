{
  "cells": [
    {
      "cell_type": "markdown",
      "metadata": {
        "id": "_xIaEwCD406A"
      },
      "source": [
        "#MIT 6.036 Spring 2019: Homework 3#\n",
        "\n",
        "This colab notebook provides code and a framework for problems 1-7 of [the homework](https://openlearninglibrary.mit.edu/courses/course-v1:MITx+6.036+1T2019/courseware/Week3/week3_homework/).  You can work out your solutions here, then submit your results back on the homework page when ready.\n",
        "\n",
        "## <section>**Setup**</section>\n",
        "\n",
        "First, download the code distribution for this homework that contains test cases and helper functions.\n",
        "\n",
        "Run the next code block to download and import the code for this lab.\n"
      ]
    },
    {
      "cell_type": "code",
      "execution_count": 1,
      "metadata": {
        "colab": {
          "base_uri": "https://localhost:8080/",
          "height": 63
        },
        "id": "vg6IEo8_lmhL",
        "outputId": "82cde602-44d6-4762-96ff-e0a18f24af89"
      },
      "outputs": [
        {
          "name": "stderr",
          "output_type": "stream",
          "text": [
            "'pwd' is not recognized as an internal or external command,\n",
            "operable program or batch file.\n"
          ]
        }
      ],
      "source": [
        "!pwd"
      ]
    },
    {
      "cell_type": "code",
      "execution_count": 2,
      "metadata": {
        "id": "2YM-_zLf9Bp-"
      },
      "outputs": [
        {
          "name": "stderr",
          "output_type": "stream",
          "text": [
            "'rm' is not recognized as an internal or external command,\n",
            "operable program or batch file.\n"
          ]
        },
        {
          "name": "stderr",
          "output_type": "stream",
          "text": [
            "'rm' is not recognized as an internal or external command,\n",
            "operable program or batch file.\n",
            "'wget' is not recognized as an internal or external command,\n",
            "operable program or batch file.\n",
            "'unzip' is not recognized as an internal or external command,\n",
            "operable program or batch file.\n",
            "'mv' is not recognized as an internal or external command,\n",
            "operable program or batch file.\n"
          ]
        },
        {
          "name": "stdout",
          "output_type": "stream",
          "text": [
            "Importing code_for_hw03\n",
            "Imported tidy_plot, plot_separator, plot_data, plot_nonlin_sep, cv, rv, y, positive, score\n",
            "Datasets: super_simple_separable_through_origin(), super_simple_separable(), xor(), xor_more()\n",
            "Tests for part 2: test_linear_classifier_with_features, mul, make_polynomial_feature_fun, \n",
            "                  test_with_features\n",
            "Also loaded: perceptron, one_hot_internal, test_one_hot\n",
            "Importing code_for_hw03 (part 2, imported as hw3)\n",
            "Imported tidy_plot, plot_separator, plot_data, plot_nonlin_sep, cv, rv, y, positive, score\n",
            "         xval_learning_alg, eval_classifier\n",
            "Tests: test_linear_classifier\n",
            "Dataset tools: load_auto_data, std_vals, standard, raw, one_hot, auto_data_and_labels\n",
            "               load_review_data, clean, extract_words, bag_of_words, extract_bow_feature_vectors\n",
            "               load_mnist_data, load_mnist_single\n"
          ]
        }
      ],
      "source": [
        "!rm -rf code_and_data_for_hw3*\n",
        "!rm -rf mnist\n",
        "!wget --quiet https://introml_oll.odl.mit.edu/6.036/static/homework/hw03/code_and_data_for_hw3.zip\n",
        "!unzip code_and_data_for_hw3.zip\n",
        "!mv code_and_data_for_hw3/* .\n",
        "\n",
        "from code_for_hw3_part1 import *\n",
        "import code_for_hw3_part2 as hw3"
      ]
    },
    {
      "cell_type": "code",
      "execution_count": 3,
      "metadata": {
        "id": "2z1zuhqltjBy"
      },
      "outputs": [
        {
          "name": "stdout",
          "output_type": "stream",
          "text": [
            "Help on function tidy_plot in module code_for_hw3_part1:\n",
            "\n",
            "tidy_plot(xmin, xmax, ymin, ymax, center=False, title=None, xlabel=None, ylabel=None)\n",
            "\n"
          ]
        }
      ],
      "source": [
        "help(tidy_plot)"
      ]
    },
    {
      "cell_type": "markdown",
      "metadata": {
        "id": "xFxhrJ5XDlvb"
      },
      "source": [
        "# Feature Transformation"
      ]
    },
    {
      "cell_type": "markdown",
      "metadata": {
        "id": "_bhI4dQB1-UZ"
      },
      "source": [
        "## <section>**Running Perceptron**</section>\n",
        "\n",
        "In problems 1,2 and 3, you will have to run the Perceptron algorithm several times to obtain linear classifiers.\n",
        "We provide you with an implementation of the algorithm which you can use to obtain your results.\n",
        "\n",
        "The specifications for the `perceptron`method provided are:\n",
        "* `data` is a numpy array of dimension $d$ by $n$\n",
        "* `labels` is numpy array of dimension $1$ by $n$\n",
        "* `params` is a dictionary specifying extra parameters to this algorithm; your algorithm runs a number of iterations equal to $T$\n",
        "* `hook` is either None or a function that takes the tuple `(th, th0)` as an argument and displays the separator graphically.\n",
        "\n",
        "It should return a tuple of $\\theta$ (a $d$ by 1 array) and $\\theta_0$ (a 1 by 1 array).\n",
        "\n",
        "Note that you are free to modify the method. For example, a useful modification for this homework would be to make the method return the number of mistakes made on the input data, while it runs."
      ]
    },
    {
      "cell_type": "code",
      "execution_count": 4,
      "metadata": {
        "id": "VtYf8ysk-VQU"
      },
      "outputs": [],
      "source": [
        "# Perceptron algorithm with offset.\n",
        "# data is dimension d by n\n",
        "# labels is dimension 1 by n\n",
        "# T is a positive integer number of steps to run\n",
        "def perceptron(data, labels, params = {}, hook = None):\n",
        "    # if T not in params, default to 100\n",
        "    T = params.get('T', 50)\n",
        "    (d, n) = data.shape\n",
        "\n",
        "    theta = np.zeros((d, 1)); theta_0 = np.zeros((1, 1))\n",
        "    for t in range(T):\n",
        "        for i in range(n):\n",
        "            x = data[:,i:i+1]\n",
        "            y = labels[:,i:i+1]\n",
        "            if y * positive(x, theta, theta_0) <= 0.0:\n",
        "                theta = theta + y * x\n",
        "                theta_0 = theta_0 + y\n",
        "                if hook: hook((theta, theta_0))\n",
        "    return theta, theta_0\n",
        "\n",
        "def averaged_perceptron(data, labels, params = {}, hook = None):\n",
        "    T = params.get('T', 50)\n",
        "    (d, n) = data.shape\n",
        "\n",
        "    theta = np.zeros((d, 1)); theta_0 = np.zeros((1, 1))\n",
        "    theta_sum = theta.copy()\n",
        "    theta_0_sum = theta_0.copy()\n",
        "    for t in range(T):\n",
        "        for i in range(n):\n",
        "            x = data[:,i:i+1]\n",
        "            y = labels[:,i:i+1]\n",
        "            if y * positive(x, theta, theta_0) <= 0.0:\n",
        "                theta = theta + y * x\n",
        "                theta_0 = theta_0 + y\n",
        "                if hook: hook((theta, theta_0))\n",
        "            theta_sum = theta_sum + theta\n",
        "            theta_0_sum = theta_0_sum + theta_0\n",
        "    theta_avg = theta_sum / (T*n)\n",
        "    theta_0_avg = theta_0_sum / (T*n)\n",
        "    if hook: hook((theta_avg, theta_0_avg))\n",
        "    return theta_avg, theta_0_avg\n",
        "\n",
        "\n",
        "def eval_classifier(learner, data_train, labels_train, data_test, labels_test):\n",
        "    th, th0 = learner(data_train, labels_train)\n",
        "    return score(data_test, labels_test, th, th0)/data_test.shape[1]\n",
        "\n",
        "def positive(x, th, th0):\n",
        "    return np.sign(th.T@x + th0)\n",
        "\n",
        "def score(data, labels, th, th0):\n",
        "    return np.sum(positive(data, th, th0) == labels)\n",
        "\n",
        "def xval_learning_alg(learner, data, labels, k):\n",
        "    _, n = data.shape\n",
        "    idx = list(range(n))\n",
        "    np.random.seed(0)\n",
        "    np.random.shuffle(idx)\n",
        "    data, labels = data[:,idx], labels[:,idx]\n",
        "\n",
        "    score_sum = 0\n",
        "    s_data = np.array_split(data, k, axis=1)\n",
        "    s_labels = np.array_split(labels, k, axis=1)\n",
        "    for i in range(k):\n",
        "        data_train = np.concatenate(s_data[:i] + s_data[i+1:], axis=1)\n",
        "        labels_train = np.concatenate(s_labels[:i] + s_labels[i+1:], axis=1)\n",
        "        data_test = np.array(s_data[i])\n",
        "        labels_test = np.array(s_labels[i])\n",
        "        score_sum += eval_classifier(learner, data_train, labels_train,\n",
        "                                              data_test, labels_test)\n",
        "    return score_sum/k"
      ]
    },
    {
      "cell_type": "markdown",
      "metadata": {
        "id": "ZzqUR755Joij"
      },
      "source": [
        "## <section>2D) Encoding Discrete Values</section>\n",
        "\n",
        "It is common to encode sets of discrete values, for machine learning, not as a single multi-valued feature, but using a one hot encoding. So, if there are $k$ values in the discrete set, we would transform that single multi-valued feature into $k$ binary-valued features, in which feature $i$ has value $+1$ if the original feature value was $i$ and has value $0$ (or $-1$) otherwise.\n",
        "\n",
        "Write a function `one_hot` that takes as input $x$, a single feature value (between $1$ and $k$), and $k$, the total possible number of values this feature can take on, and transform it to a numpy column vector of $k$ binary features using a one-hot encoding (remember vectors have zero-based indexing)."
      ]
    },
    {
      "cell_type": "code",
      "execution_count": 5,
      "metadata": {
        "id": "R11VPNJ3Jpwb"
      },
      "outputs": [],
      "source": [
        "def one_hot(x, k):\n",
        "    # Make an empty column vector\n",
        "    v = np.zeros((k, 1))\n",
        "    # Set an entry to 1\n",
        "    v[x-1, 0] = 1\n",
        "    return v"
      ]
    },
    {
      "cell_type": "code",
      "execution_count": 6,
      "metadata": {
        "id": "uOdWFevZJs1U"
      },
      "outputs": [
        {
          "name": "stdout",
          "output_type": "stream",
          "text": [
            "Passed! \n",
            "\n"
          ]
        }
      ],
      "source": [
        "test_one_hot(one_hot)"
      ]
    },
    {
      "cell_type": "markdown",
      "metadata": {
        "id": "IHCfY1dBJvK3"
      },
      "source": [
        "## 3) Polynomial Features\n",
        "\n",
        "One systematic way of generating non-linear transformations of your input features is to consider the polynomials of increasing order.  Given a feature vector $x = [x_1, x_2, ..., x_d]^T$, we can map it into a new feature vector that contains all the factors in a polynomial of order $d$. For example, for $x = [x_1, x_2]^T$ and order 2, we get $$\\phi(x) = [1, x_1, x_2, x_1x_2, x_1^2, x_2^2]^T$$ and for order 3, we get $$\\phi(x) = [1, x_1, x_2, x_1x_2, x_1^2, x_2^2, x_1^2x_2, x_1x_2^2, x_1^3, x_2^3]^T.$$  \n",
        "\n",
        "In the code that has been loaded, we have defined `make_polynomial_feature_fun` that, given the order, returns a feature transformation function (analogous to $\\phi$ in the description).  You should use it in doing this problem."
      ]
    },
    {
      "cell_type": "code",
      "execution_count": 7,
      "metadata": {
        "id": "2MHF3Ej7Jx0r"
      },
      "outputs": [
        {
          "name": "stdout",
          "output_type": "stream",
          "text": [
            "[[1.]\n",
            " [0.]\n",
            " [0.]\n",
            " [0.]\n",
            " [0.]\n",
            " [0.]\n",
            " [0.]\n",
            " [0.]\n",
            " [0.]\n",
            " [0.]\n",
            " [0.]\n",
            " [0.]\n",
            " [0.]\n",
            " [0.]\n",
            " [0.]\n",
            " [0.]\n",
            " [0.]\n",
            " [0.]\n",
            " [0.]\n",
            " [0.]\n",
            " [0.]]\n"
          ]
        }
      ],
      "source": [
        "## For example, make_polynomial_feature_fun could be used as follows:\n",
        "import numpy as np\n",
        "\n",
        "# Data\n",
        "data = np.zeros((5,1))\n",
        "\n",
        "# Generate transformation of order 2\n",
        "transformation = make_polynomial_feature_fun(2)\n",
        "\n",
        "# Use transformation on data\n",
        "print(transformation(data))"
      ]
    },
    {
      "cell_type": "code",
      "execution_count": 8,
      "metadata": {
        "id": "vro86Am2mPMF"
      },
      "outputs": [
        {
          "name": "stdout",
          "output_type": "stream",
          "text": [
            "(3, 1)\n",
            "(66, 1)\n",
            "(231, 1)\n",
            "(496, 1)\n",
            "(861, 1)\n",
            "(1326, 1)\n",
            "(array([[ 2,  3,  9, 12],\n",
            "       [ 5,  2,  6,  5]]), array([[ 1, -1,  1, -1]]))\n"
          ]
        },
        {
          "data": {
            "image/png": "[encoded data removed]",
            "text/plain": [
              "<Figure size 640x480 with 1 Axes>"
            ]
          },
          "metadata": {},
          "output_type": "display_data"
        },
        {
          "name": "stdout",
          "output_type": "stream",
          "text": [
            "th [[  1.   2.   5.   4.  10.  25.   8.  20.  50. 125.]] th0 [[1.]]\n",
            "th [[  0.  -1.   3.  -5.   4.  21. -19.   2.  38. 117.]] th0 [[0.]]\n",
            "th [[ -1.  -4.   1. -14.  -2.  17. -46. -16.  26. 109.]] th0 [[-1.]]\n",
            "th [[  0.   5.   7.  67.  52.  53. 683. 470. 350. 325.]] th0 [[0.]]\n",
            "th [[-1.000e+00 -7.000e+00  2.000e+00 -7.700e+01 -8.000e+00  2.800e+01\n",
            "  -1.045e+03 -2.500e+02  5.000e+01  2.000e+02]] th0 [[-1.]]\n",
            "th [[   0.    2.    8.    4.   46.   64. -316.  236.  374.  416.]] th0 [[0.]]\n",
            "th [[  -1.   -1.    6.   -5.   40.   60. -343.  218.  362.  408.]] th0 [[-1.]]\n",
            "th [[  -2.   -4.    4.  -14.   34.   56. -370.  200.  350.  400.]] th0 [[-2.]]\n",
            "th [[  -3.   -7.    2.  -23.   28.   52. -397.  182.  338.  392.]] th0 [[-3.]]\n",
            "th [[ -2.   2.   8.  58.  82.  88. 332. 668. 662. 608.]] th0 [[-2.]]\n",
            "th [[   -3.   -10.     3.   -86.    22.    63. -1396.   -52.   362.   483.]] th0 [[-3.]]\n",
            "th [[  -2.   -1.    9.   -5.   76.   99. -667.  434.  686.  699.]] th0 [[-2.]]\n",
            "th [[  -3.   -4.    7.  -14.   70.   95. -694.  416.  674.  691.]] th0 [[-3.]]\n",
            "th [[  -4.   -7.    5.  -23.   64.   91. -721.  398.  662.  683.]] th0 [[-4.]]\n",
            "th [[  -5.  -10.    3.  -32.   58.   87. -748.  380.  650.  675.]] th0 [[-5.]]\n",
            "th [[ -4.  -1.   9.  49. 112. 123. -19. 866. 974. 891.]] th0 [[-4.]]\n",
            "th [[   -5.   -13.     4.   -95.    52.    98. -1747.   146.   674.   766.]] th0 [[-5.]]\n",
            "th [[   -4.    -4.    10.   -14.   106.   134. -1018.   632.   998.   982.]] th0 [[-4.]]\n",
            "th [[   -5.    -7.     8.   -23.   100.   130. -1045.   614.   986.   974.]] th0 [[-5.]]\n",
            "th [[   -6.   -10.     6.   -32.    94.   126. -1072.   596.   974.   966.]] th0 [[-6.]]\n",
            "th [[   -7.   -13.     4.   -41.    88.   122. -1099.   578.   962.   958.]] th0 [[-7.]]\n",
            "th [[   -8.   -16.     2.   -50.    82.   118. -1126.   560.   950.   950.]] th0 [[-8.]]\n",
            "th [[  -7.   -7.    8.   31.  136.  154. -397. 1046. 1274. 1166.]] th0 [[-7.]]\n",
            "th [[   -8.   -19.     3.  -113.    76.   129. -2125.   326.   974.  1041.]] th0 [[-8.]]\n",
            "th [[   -7.   -10.     9.   -32.   130.   165. -1396.   812.  1298.  1257.]] th0 [[-7.]]\n",
            "th [[   -8.   -13.     7.   -41.   124.   161. -1423.   794.  1286.  1249.]] th0 [[-8.]]\n",
            "th [[   -9.   -16.     5.   -50.   118.   157. -1450.   776.  1274.  1241.]] th0 [[-9.]]\n",
            "th [[  -10.   -19.     3.   -59.   112.   153. -1477.   758.  1262.  1233.]] th0 [[-10.]]\n",
            "th [[  -9.  -10.    9.   22.  166.  189. -748. 1244. 1586. 1449.]] th0 [[-9.]]\n",
            "th [[  -10.   -22.     4.  -122.   106.   164. -2476.   524.  1286.  1324.]] th0 [[-10.]]\n",
            "th [[   -9.   -13.    10.   -41.   160.   200. -1747.  1010.  1610.  1540.]] th0 [[-9.]]\n",
            "th [[  -10.   -16.     8.   -50.   154.   196. -1774.   992.  1598.  1532.]] th0 [[-10.]]\n",
            "th [[  -11.   -19.     6.   -59.   148.   192. -1801.   974.  1586.  1524.]] th0 [[-11.]]\n",
            "th [[  -12.   -22.     4.   -68.   142.   188. -1828.   956.  1574.  1516.]] th0 [[-12.]]\n",
            "th [[  -11.   -13.    10.    13.   196.   224. -1099.  1442.  1898.  1732.]] th0 [[-11.]]\n",
            "th [[  -12.   -16.     8.     4.   190.   220. -1126.  1424.  1886.  1724.]] th0 [[-12.]]\n",
            "th [[  -13.   -19.     6.    -5.   184.   216. -1153.  1406.  1874.  1716.]] th0 [[-13.]]\n",
            "th [[  -14.   -22.     4.   -14.   178.   212. -1180.  1388.  1862.  1708.]] th0 [[-14.]]\n",
            "th [[  -15.   -25.     2.   -23.   172.   208. -1207.  1370.  1850.  1700.]] th0 [[-15.]]\n",
            "th [[  -16.   -28.     0.   -32.   166.   204. -1234.  1352.  1838.  1692.]] th0 [[-16.]]\n",
            "th [[  -17.   -31.    -2.   -41.   160.   200. -1261.  1334.  1826.  1684.]] th0 [[-17.]]\n",
            "th [[  -18.   -34.    -4.   -50.   154.   196. -1288.  1316.  1814.  1676.]] th0 [[-18.]]\n",
            "th [[  -19.   -37.    -6.   -59.   148.   192. -1315.  1298.  1802.  1668.]] th0 [[-19.]]\n",
            "th [[  -20.   -40.    -8.   -68.   142.   188. -1342.  1280.  1790.  1660.]] th0 [[-20.]]\n",
            "th [[  -21.   -43.   -10.   -77.   136.   184. -1369.  1262.  1778.  1652.]] th0 [[-21.]]\n",
            "th [[  -22.   -46.   -12.   -86.   130.   180. -1396.  1244.  1766.  1644.]] th0 [[-22.]]\n",
            "th [[  -23.   -49.   -14.   -95.   124.   176. -1423.  1226.  1754.  1636.]] th0 [[-23.]]\n",
            "th [[  -24.   -52.   -16.  -104.   118.   172. -1450.  1208.  1742.  1628.]] th0 [[-24.]]\n",
            "th [[  -25.   -55.   -18.  -113.   112.   168. -1477.  1190.  1730.  1620.]] th0 [[-25.]]\n",
            "th [[  -26.   -58.   -20.  -122.   106.   164. -1504.  1172.  1718.  1612.]] th0 [[-26.]]\n",
            "th [[  -27.   -61.   -22.  -131.   100.   160. -1531.  1154.  1706.  1604.]] th0 [[-27.]]\n",
            "th [[  -28.   -64.   -24.  -140.    94.   156. -1558.  1136.  1694.  1596.]] th0 [[-28.]]\n",
            "th [[  -29.   -67.   -26.  -149.    88.   152. -1585.  1118.  1682.  1588.]] th0 [[-29.]]\n",
            "th [[  -30.   -70.   -28.  -158.    82.   148. -1612.  1100.  1670.  1580.]] th0 [[-30.]]\n",
            "th [[  -31.   -73.   -30.  -167.    76.   144. -1639.  1082.  1658.  1572.]] th0 [[-31.]]\n",
            "th [[  -32.   -76.   -32.  -176.    70.   140. -1666.  1064.  1646.  1564.]] th0 [[-32.]]\n",
            "th [[  -33.   -79.   -34.  -185.    64.   136. -1693.  1046.  1634.  1556.]] th0 [[-33.]]\n",
            "th [[  -34.   -82.   -36.  -194.    58.   132. -1720.  1028.  1622.  1548.]] th0 [[-34.]]\n",
            "th [[  -35.   -85.   -38.  -203.    52.   128. -1747.  1010.  1610.  1540.]] th0 [[-35.]]\n",
            "th [[  -36.   -88.   -40.  -212.    46.   124. -1774.   992.  1598.  1532.]] th0 [[-36.]]\n",
            "th [[  -36.   -88.   -40.  -212.    46.   124. -1774.   992.  1598.  1532.]] th0 [[-36.]]\n",
            "Final score 4\n",
            "Params [[  -36.   -88.   -40.  -212.    46.   124. -1774.   992.  1598.  1532.]] [[-36.]]\n"
          ]
        }
      ],
      "source": [
        "\n",
        "for i in [1, 10, 20, 30, 40, 50]:\n",
        "    print((make_polynomial_feature_fun(i)(np.zeros((2,1)))).shape) # \n",
        "\n",
        "\n",
        "data = np.array([[1, 1, 2, 2],\n",
        "         [1, 2, 1, 2]])\n",
        "labels = np.array([[-1, 1, 1, -1]])\n",
        "\n",
        "print(super_simple_separable())\n",
        "test_with_features(super_simple_separable, order=3, draw=True, pause=False)"
      ]
    },
    {
      "cell_type": "markdown",
      "metadata": {
        "id": "gwVEBQ_dMoxM"
      },
      "source": [
        "Note that iterative animations, which update a plot within a loop, don't work the same way in colab, as with a local python console installation.  One workaround for colab to be able to show such plot iterations is to show all the plots, and this can be done for the test code using this patched function:"
      ]
    },
    {
      "cell_type": "code",
      "execution_count": 9,
      "metadata": {
        "id": "U87UfhraMn7P"
      },
      "outputs": [],
      "source": [
        "def test_linear_classifier_with_features(dataFun, learner, feature_fun,\n",
        "                             draw = True, refresh = True, pause = True):\n",
        "    raw_data, labels = dataFun()\n",
        "    data = feature_fun(raw_data) if feature_fun else raw_data\n",
        "    if draw:\n",
        "        def hook(params):\n",
        "            ax = plot_data(raw_data, labels)   # create plot axis on each iteration\n",
        "            (th, th0) = params\n",
        "            predictor = lambda x1,x2: int(positive(feature_fun(cv([x1, x2])), th, th0))\n",
        "            plot_nonlin_sep(\n",
        "                predictor,\n",
        "                ax = ax)\n",
        "            plot_data(raw_data, labels, ax)\n",
        "            plt.show()                         # force plot to push to the colab notebook and be displayed\n",
        "            print('th', th.T, 'th0', th0)\n",
        "            if pause: input('press enter here to continue:')\n",
        "    else:\n",
        "        hook = None\n",
        "    th, th0 = learner(data, labels, hook = hook)\n",
        "    if hook: hook((th, th0))\n",
        "    print(\"Final score\", int(score(data, labels, th, th0)))\n",
        "    print(\"Params\", np.transpose(th), th0)\n",
        "\n",
        "def test_with_features(dataFun, order = 2, draw=True, pause=True):\n",
        "    test_linear_classifier_with_features(\n",
        "        dataFun,                        # data\n",
        "        perceptron,                     # learner\n",
        "        make_polynomial_feature_fun(order), # feature maker\n",
        "        draw=draw,\n",
        "        pause=pause)"
      ]
    },
    {
      "cell_type": "markdown",
      "metadata": {
        "id": "N7SLAtCuNSOq"
      },
      "source": [
        "Here's a test you can run to see plots:"
      ]
    },
    {
      "cell_type": "code",
      "execution_count": 10,
      "metadata": {
        "id": "H74UrlZSNVe-"
      },
      "outputs": [
        {
          "name": "stderr",
          "output_type": "stream",
          "text": [
            "C:\\Users\\brent\\AppData\\Local\\Temp\\ipykernel_25816\\3270409997.py:9: DeprecationWarning: Conversion of an array with ndim > 0 to a scalar is deprecated, and will error in future. Ensure you extract a single element from your array before performing this operation. (Deprecated NumPy 1.25.)\n",
            "  predictor = lambda x1,x2: int(positive(feature_fun(cv([x1, x2])), th, th0))\n"
          ]
        },
        {
          "data": {
            "image/png": "[encoded data removed]",
            "text/plain": [
              "<Figure size 640x480 with 1 Axes>"
            ]
          },
          "metadata": {},
          "output_type": "display_data"
        },
        {
          "name": "stdout",
          "output_type": "stream",
          "text": [
            "th [[1. 2. 5.]] th0 [[1.]]\n"
          ]
        },
        {
          "data": {
            "image/png": "[encoded data removed]",
            "text/plain": [
              "<Figure size 640x480 with 1 Axes>"
            ]
          },
          "metadata": {},
          "output_type": "display_data"
        },
        {
          "name": "stdout",
          "output_type": "stream",
          "text": [
            "th [[ 0. -1.  4.]] th0 [[0.]]\n"
          ]
        },
        {
          "data": {
            "image/png": "[encoded data removed]",
            "text/plain": [
              "<Figure size 640x480 with 1 Axes>"
            ]
          },
          "metadata": {},
          "output_type": "display_data"
        },
        {
          "name": "stdout",
          "output_type": "stream",
          "text": [
            "th [[ -1. -13.  -1.]] th0 [[-1.]]\n"
          ]
        },
        {
          "data": {
            "image/png": "[encoded data removed]",
            "text/plain": [
              "<Figure size 640x480 with 1 Axes>"
            ]
          },
          "metadata": {},
          "output_type": "display_data"
        },
        {
          "name": "stdout",
          "output_type": "stream",
          "text": [
            "th [[  0. -11.   4.]] th0 [[0.]]\n"
          ]
        },
        {
          "data": {
            "image/png": "[encoded data removed]",
            "text/plain": [
              "<Figure size 640x480 with 1 Axes>"
            ]
          },
          "metadata": {},
          "output_type": "display_data"
        },
        {
          "name": "stdout",
          "output_type": "stream",
          "text": [
            "th [[ 1. -2. 10.]] th0 [[1.]]\n"
          ]
        },
        {
          "data": {
            "image/png": "[encoded data removed]",
            "text/plain": [
              "<Figure size 640x480 with 1 Axes>"
            ]
          },
          "metadata": {},
          "output_type": "display_data"
        },
        {
          "name": "stdout",
          "output_type": "stream",
          "text": [
            "th [[  0. -14.   5.]] th0 [[0.]]\n"
          ]
        },
        {
          "data": {
            "image/png": "[encoded data removed]",
            "text/plain": [
              "<Figure size 640x480 with 1 Axes>"
            ]
          },
          "metadata": {},
          "output_type": "display_data"
        },
        {
          "name": "stdout",
          "output_type": "stream",
          "text": [
            "th [[  1. -12.  10.]] th0 [[1.]]\n"
          ]
        },
        {
          "data": {
            "image/png": "[encoded data removed]",
            "text/plain": [
              "<Figure size 640x480 with 1 Axes>"
            ]
          },
          "metadata": {},
          "output_type": "display_data"
        },
        {
          "name": "stdout",
          "output_type": "stream",
          "text": [
            "th [[ 2. -3. 16.]] th0 [[2.]]\n"
          ]
        },
        {
          "data": {
            "image/png": "[encoded data removed]",
            "text/plain": [
              "<Figure size 640x480 with 1 Axes>"
            ]
          },
          "metadata": {},
          "output_type": "display_data"
        },
        {
          "name": "stdout",
          "output_type": "stream",
          "text": [
            "th [[  1. -15.  11.]] th0 [[1.]]\n"
          ]
        },
        {
          "data": {
            "image/png": "[encoded data removed]",
            "text/plain": [
              "<Figure size 640x480 with 1 Axes>"
            ]
          },
          "metadata": {},
          "output_type": "display_data"
        },
        {
          "name": "stdout",
          "output_type": "stream",
          "text": [
            "th [[ 2. -6. 17.]] th0 [[2.]]\n"
          ]
        },
        {
          "data": {
            "image/png": "[encoded data removed]",
            "text/plain": [
              "<Figure size 640x480 with 1 Axes>"
            ]
          },
          "metadata": {},
          "output_type": "display_data"
        },
        {
          "name": "stdout",
          "output_type": "stream",
          "text": [
            "th [[  1. -18.  12.]] th0 [[1.]]\n"
          ]
        },
        {
          "data": {
            "image/png": "[encoded data removed]",
            "text/plain": [
              "<Figure size 640x480 with 1 Axes>"
            ]
          },
          "metadata": {},
          "output_type": "display_data"
        },
        {
          "name": "stdout",
          "output_type": "stream",
          "text": [
            "th [[ 2. -9. 18.]] th0 [[2.]]\n"
          ]
        },
        {
          "data": {
            "image/png": "[encoded data removed]",
            "text/plain": [
              "<Figure size 640x480 with 1 Axes>"
            ]
          },
          "metadata": {},
          "output_type": "display_data"
        },
        {
          "name": "stdout",
          "output_type": "stream",
          "text": [
            "th [[ 2. -9. 18.]] th0 [[2.]]\n",
            "Final score 4\n",
            "Params [[ 2. -9. 18.]] [[2.]]\n"
          ]
        }
      ],
      "source": [
        "test_with_features(super_simple_separable_through_origin, order=1, draw=True, pause=False)"
      ]
    },
    {
      "cell_type": "markdown",
      "metadata": {
        "id": "k049Moe2OKBa"
      },
      "source": [
        "We know that a better way to do this exists (eg using [colab plot animations](https://colab.research.google.com/drive/131wXGA8h8d7llSZxZJ6R4e8nz0ih1WPG#scrollTo=5zVG8JcR4CS2)) - if you are willing to contribute some nice code which lets our plotting functions do this, please do share!"
      ]
    },
    {
      "cell_type": "markdown",
      "metadata": {
        "id": "GcgPe4-XQ8-b"
      },
      "source": [
        "# Experiments"
      ]
    },
    {
      "cell_type": "markdown",
      "metadata": {
        "id": "erNybvgGRXCf"
      },
      "source": [
        "## 4) Evaluating algorithmic and feature choices for AUTO data\n",
        "\n",
        "We now want to build a classifier for the auto data, focusing on the\n",
        "numeric data.  In the code file for this part of the assignment, we have supplied you\n",
        "with the `load_auto_data` function, that can be used to read the\n",
        "relevant .tsv file.  It will return a list of dictionaries, one for each data item.\n",
        "\n",
        "We then have to specify what feature function to use for each column\n",
        "in the data.  The file `hw3_part2_main.py` has an example for constructing\n",
        "the data and label arrays using `raw` feature function for all the columns.\n",
        "Look at the definition of `features` in `hw3_part2_main.py`, this indicates a feature name to\n",
        "use and then a feature function, there are three defined in the\n",
        "`code_for_hw3_part2.py` file (`raw`, `standard` and `one_hot`).  `raw` just uses\n",
        "the original value, `standard` subtracts out the mean value and\n",
        "divides by the standard deviation and `one_hot` does the encoding\n",
        "described in the notes.\n",
        "\n",
        "The function `auto_data_and_labels` will process the dictionaries and\n",
        "return <tt>data, labels</tt> where <tt>data</tt> are arrays of\n",
        "dimension $(d, 392)$, with $d$ the total number of features specified,\n",
        "and <tt>labels</tt> is of dimension $(1, 392)$.  The data in the file\n",
        "is sorted by class, but it will be shuffled when you read it in."
      ]
    },
    {
      "cell_type": "code",
      "execution_count": 11,
      "metadata": {
        "id": "3jdynxZqQ5Ky"
      },
      "outputs": [
        {
          "name": "stdout",
          "output_type": "stream",
          "text": [
            "avg and std {}\n",
            "entries in one_hot field {}\n",
            "auto data and labels shape (6, 392) (1, 392)\n"
          ]
        }
      ],
      "source": [
        "# Returns a list of dictionaries.  Keys are the column names, including mpg.\n",
        "auto_data_all = hw3.load_auto_data('auto-mpg.tsv')\n",
        "\n",
        "# The choice of feature processing for each feature, mpg is always raw and\n",
        "# does not need to be specified.  Other choices are hw3.standard and hw3.one_hot.\n",
        "# 'name' is not numeric and would need a different encoding.\n",
        "features = [('cylinders', hw3.raw),\n",
        "            ('displacement', hw3.raw),\n",
        "            ('horsepower', hw3.raw),\n",
        "            ('weight', hw3.raw),\n",
        "            ('acceleration', hw3.raw),\n",
        "            ## Drop model_year by default\n",
        "            ## ('model_year', hw3.raw),\n",
        "            ('origin', hw3.raw)]\n",
        "\n",
        "# Construct the standard data and label arrays\n",
        "auto_data, auto_labels = hw3.auto_data_and_labels(auto_data_all, features)\n",
        "print('auto data and labels shape', auto_data.shape, auto_labels.shape)"
      ]
    },
    {
      "cell_type": "code",
      "execution_count": 12,
      "metadata": {
        "id": "yfOrmU1XdFCZ"
      },
      "outputs": [
        {
          "name": "stdout",
          "output_type": "stream",
          "text": [
            "avg and std {'displacement': (388.3482142857143, 302.0458123396404), 'horsepower': (509.3545918367347, 333.65211517163635), 'weight': (2977.5841836734694, 848.3184465698363), 'acceleration': (15.541326530612244, 2.7553429127509967)}\n",
            "entries in one_hot field {'cylinders': [3.0, 4.0, 5.0, 6.0, 8.0], 'origin': [1.0, 2.0, 3.0]}\n",
            "0.8060256410256409\n",
            "0.9005128205128207\n"
          ]
        }
      ],
      "source": [
        "# Your code here to process the auto data\n",
        "data = hw3.load_auto_data(\"auto-mpg.tsv\")\n",
        "\n",
        "feature_set_1 =  [('cylinders', hw3.raw),\n",
        "            ('displacement', hw3.raw),\n",
        "            ('horsepower', hw3.raw),\n",
        "            ('weight', hw3.raw),\n",
        "            ('acceleration', hw3.raw),\n",
        "            ('origin', hw3.raw)]\n",
        "\n",
        "feature_set_2 =  [('cylinders', hw3.one_hot),\n",
        "            ('displacement', hw3.standard),\n",
        "            ('horsepower', hw3.standard),\n",
        "            ('weight', hw3.standard),\n",
        "            ('acceleration', hw3.standard),\n",
        "            ('origin', hw3.one_hot)]\n",
        "\n",
        "auto_data, auto_labels = hw3.auto_data_and_labels(data, feature_set_2)\n",
        "\n",
        "acc= xval_learning_alg(lambda data, labels: perceptron(data, labels, {\"T\": 1}), auto_data, auto_labels, k=10)\n",
        "# print(acc)\n",
        "acc= xval_learning_alg(lambda data, labels: averaged_perceptron(data, labels, {\"T\": 1}), auto_data, auto_labels, k=10)\n",
        "# print(acc)\n",
        "acc =xval_learning_alg(lambda data, labels: perceptron(data, labels, {\"T\": 10}), auto_data, auto_labels, k=10)\n",
        "# print(acc)\n",
        "acc= xval_learning_alg(lambda data, labels: averaged_perceptron(data, labels, {\"T\": 10}), auto_data, auto_labels, k=10)\n",
        "# print(acc)\n",
        "acc =xval_learning_alg(lambda data, labels: perceptron(data, labels, {\"T\": 50}), auto_data, auto_labels, k=10)\n",
        "print(acc)\n",
        "acc =xval_learning_alg(lambda data, labels: averaged_perceptron(data, labels, {\"T\": 50}), auto_data, auto_labels, k=10)\n",
        "print(acc)"
      ]
    },
    {
      "cell_type": "markdown",
      "metadata": {
        "id": "sh-D5bvTbizf"
      },
      "source": [
        "## 5) Evaluating algorithmic and feature choices for review data\n",
        "\n",
        "We have supplied you with the `load_review_data`\n",
        "function, that can be used to read a .tsv file and return the labels\n",
        "and texts. We have also supplied you with the `bag_of_words` function,\n",
        "which takes the raw data and returns a dictionary of unigram\n",
        "words. The resulting dictionary is an input to\n",
        "`extract_bow_feature_vectors` which computes a feature matrix of ones\n",
        "and zeros that can be used as the input for the classification\n",
        "algorithms.  The file `hw3_part2_main.py` has code for constructing\n",
        "the data and label arrays.  Using these arrays and our implementation\n",
        "of the learning algorithms, you will be able to compute $\\theta$ and\n",
        "$\\theta_0$.  You will need to add your (or the one written by staff)\n",
        "implementation of perceptron and averaged perceptron."
      ]
    },
    {
      "cell_type": "code",
      "execution_count": 13,
      "metadata": {
        "id": "5gHVvGl2bsps"
      },
      "outputs": [
        {
          "name": "stdout",
          "output_type": "stream",
          "text": [
            "review_bow_data and labels shape (19945, 10000) (1, 10000)\n"
          ]
        }
      ],
      "source": [
        "# Returns lists of dictionaries.  Keys are the column names, 'sentiment' and 'text'.\n",
        "# The train data has 10,000 examples\n",
        "review_data = hw3.load_review_data('reviews.tsv')\n",
        "\n",
        "# Lists texts of reviews and list of labels (1 or -1)\n",
        "review_texts, review_label_list = zip(*((sample['text'], sample['sentiment']) for sample in review_data))\n",
        "\n",
        "# The dictionary of all the words for \"bag of words\"\n",
        "dictionary = hw3.bag_of_words(review_texts)\n",
        "\n",
        "# The standard data arrays for the bag of words\n",
        "review_bow_data = hw3.extract_bow_feature_vectors(review_texts, dictionary)\n",
        "review_labels = hw3.rv(review_label_list)\n",
        "print('review_bow_data and labels shape', review_bow_data.shape, review_labels.shape)"
      ]
    },
    {
      "cell_type": "code",
      "execution_count": 14,
      "metadata": {
        "id": "wR9S-6DsdDFF"
      },
      "outputs": [
        {
          "name": "stdout",
          "output_type": "stream",
          "text": [
            "['great', 'individually', 'bright', 'yummy', 'skeptical', 'perfect', 'easily', 'satisfied', 'delicious', 'excellent']\n",
            "['worst', 'awful', 'unfortunately', 'horrible', 'stuck', 'changed', 'disappointment', 'bland', 'poor', 'formula']\n"
          ]
        }
      ],
      "source": [
        "\n",
        "# acc = xval_learning_alg(lambda data, labels: averaged_perceptron(data, labels, {\"T\": 10}), review_bow_data, review_labels, k = 10)\n",
        "# print(acc)\n",
        "\n",
        "th, th_0 = averaged_perceptron(review_bow_data, review_labels, {\"T\": 10})\n",
        "\n",
        "rank_keyword_index = np.argsort(th[:,0]) # list\n",
        "\n",
        "low_ranker_index = rank_keyword_index[:10]\n",
        "high_ranker_index = rank_keyword_index[-10:]\n",
        "\n",
        "new_dict = hw3.reverse_dict(dictionary)\n",
        "\n",
        "positive_word = [new_dict[i] for i in high_ranker_index]\n",
        "print(positive_word)\n",
        "negative_word = [new_dict[i] for i in low_ranker_index]\n",
        "print(negative_word)\n"
      ]
    },
    {
      "cell_type": "markdown",
      "metadata": {
        "id": "qbqHMbrubt5t"
      },
      "source": [
        "## 6) Evaluating features for MNIST data\n",
        "\n",
        "\n",
        "This problem explores how well the perceptron algorithm works to <a\n",
        "href=\"http://neuralnetworksanddeeplearning.com/chap1.html\">classify\n",
        "images of handwritten digits</a>, from the well-known (\"MNIST\")\n",
        "dataset, buiding on your thoughts from lab about extracting features\n",
        "from images.  This exercise will highlight how important feature\n",
        "extraction is, before linear classification is done, using algorithms\n",
        "such as the perceptron.\n",
        "\n",
        "<b>Dataset setup</b>\n",
        "\n",
        "Often, it may be easier to work with a vector whose spatial orientation is preserved.\n",
        "In previous parts, we have represented features as one long feature vector.\n",
        "For images, however, we often represent a $m$ by $n$ image\n",
        "as a `(m,n)` array, rather than a `(mn,1)` array\n",
        "(as the previous parts have done).\n",
        "\n",
        "In the code file, we have supplied you with the `load_mnist_data` function,\n",
        "which will read from the provided image files and populate a dictionary,\n",
        "with image and label vectors for each numerical digit from 0 to 9.\n",
        "These images are already shaped as `(m,n)` arrays."
      ]
    },
    {
      "cell_type": "code",
      "execution_count": 32,
      "metadata": {},
      "outputs": [],
      "source": [
        "# change these implementations to support whole datasets\n",
        "\n",
        "def raw_mnist_features(x):\n",
        "    \"\"\"\n",
        "    @param x (n_samples,m,n) array with values in (0,1)\n",
        "    @return (m*n,n_samples) reshaped array where each entry is preserved\n",
        "    \"\"\"\n",
        "    data_points, m, n = x.shape\n",
        "    \n",
        "    return x.reshape((data_points, m*n)).T\n",
        "\n",
        "def row_average_features(x):\n",
        "    \"\"\"\n",
        "    This should either use or modify your code from the tutor questions.\n",
        "\n",
        "    @param x (n_samples,m,n) array with values in (0,1)\n",
        "    @return (m,n_samples) array where each entry is the average of a row\n",
        "    \"\"\"\n",
        "    return np.mean(x, axis=2, keepdims=True)\n",
        "\n",
        "\n",
        "def col_average_features(x):\n",
        "    \"\"\"\n",
        "    This should either use or modify your code from the tutor questions.\n",
        "\n",
        "    @param x (n_samples,m,n) array with values in (0,1)\n",
        "    @return (n,n_samples) array where each entry is the average of a column\n",
        "    \"\"\"\n",
        "    return np.mean(x, axis=1, keepdims=True).T\n",
        "\n",
        "\n",
        "def top_bottom_features(x):\n",
        "    \"\"\"\n",
        "    This should either use or modify your code from the tutor questions.\n",
        "\n",
        "    @param x (n_samples,m,n) array with values in (0,1)\n",
        "    @return (2,n_samples) array where the first entry of each column is the average of the\n",
        "    top half of the image = rows 0 to floor(m/2) [exclusive]\n",
        "    and the second entry is the average of the bottom half of the image\n",
        "    = rows floor(m/2) [inclusive] to m\n",
        "    \"\"\"\n",
        "    row = x.shape[0]\n",
        "\n",
        "    return np.array([[np.mean(x[ : row//2])], [np.mean(x[row//2 : ])]])\n",
        "    "
      ]
    },
    {
      "cell_type": "code",
      "execution_count": 35,
      "metadata": {},
      "outputs": [],
      "source": [
        "def row_average_features(x):\n",
        "    \"\"\"\n",
        "    @param x (n_samples,m,n) array with values in (0,1)\n",
        "    @return (m,n_samples) array where each entry is the average of a row\n",
        "    \"\"\"\n",
        "    n_samples, m, n = x.shape\n",
        "    return np.mean(x, axis=2,keepdims=True).T.reshape((m,n_samples))\n",
        "\n",
        "def col_average_features(x):\n",
        "    \"\"\"\n",
        "    @param x (n_samples,m,n) array with values in (0,1)\n",
        "    @return (n,n_samples) array where each entry is the average of a column\n",
        "    \"\"\"\n",
        "    n_samples, m, n = x.shape\n",
        "    return np.mean(x, axis=1,keepdims=True).T.reshape((n,n_samples))\n",
        "\n",
        "def top_bottom_features(x):\n",
        "    \"\"\"\n",
        "    @param x (n_samples,m,n) array with values in (0,1)\n",
        "    @return (2,n_samples) array where the first entry of each column is the average of the\n",
        "    top half of the image = rows 0 to floor(m/2) [exclusive]\n",
        "    and the second entry is the average of the bottom half of the image\n",
        "    = rows floor(m/2) [inclusive] to m\n",
        "    \"\"\"\n",
        "    n_samples, m, n = x.shape\n",
        "    return np.array([np.mean(x[:,:m // 2,],axis=(1,2)), np.mean(x[:,m // 2:,],axis=(1,2))]).reshape((2,n_samples))"
      ]
    },
    {
      "cell_type": "code",
      "execution_count": 57,
      "metadata": {},
      "outputs": [
        {
          "name": "stdout",
          "output_type": "stream",
          "text": [
            "mnist_data_all loaded. shape of single images is (28, 28)\n"
          ]
        }
      ],
      "source": [
        "mnist_data_all = hw3.load_mnist_data(range(10))\n",
        "\n",
        "print('mnist_data_all loaded. shape of single images is', mnist_data_all[0][\"images\"][0].shape)\n",
        "\n",
        "# HINT: change the [0] and [1] if you want to access different images\n",
        "d0 = mnist_data_all[9][\"images\"]\n",
        "d1 = mnist_data_all[0][\"images\"]\n",
        "y0 = np.repeat(-1, len(d0)).reshape(1,-1)\n",
        "y1 = np.repeat(1, len(d1)).reshape(1,-1)\n",
        "\n",
        "# data goes into the feature computation functions\n",
        "data = np.vstack((d0, d1))\n",
        "# labels can directly go into the perceptron algorithm\n",
        "labels = np.vstack((y0.T, y1.T)).T"
      ]
    },
    {
      "cell_type": "code",
      "execution_count": 58,
      "metadata": {
        "id": "9DTXfMoDgCKk"
      },
      "outputs": [],
      "source": [
        "# use this function to evaluate accuracy\n",
        "\n",
        "# 6.2 \n",
        "# acc = hw3.get_classification_accuracy(raw_mnist_features(data), labels)\n",
        "# print(acc)\n",
        "\n",
        "result = []\n",
        "\n",
        "acc = hw3.get_classification_accuracy(row_average_features(data), labels)\n",
        "result.append(acc)"
      ]
    },
    {
      "cell_type": "code",
      "execution_count": 59,
      "metadata": {},
      "outputs": [],
      "source": [
        "acc = hw3.get_classification_accuracy(col_average_features(data), labels)\n",
        "result.append(acc)"
      ]
    },
    {
      "cell_type": "code",
      "execution_count": 60,
      "metadata": {},
      "outputs": [
        {
          "name": "stdout",
          "output_type": "stream",
          "text": [
            "[0.49749999999999994, 0.5041666666666667, 0.49749999999999994]\n"
          ]
        }
      ],
      "source": [
        "acc = hw3.get_classification_accuracy(top_bottom_features(data), labels)\n",
        "result.append(acc)\n",
        "print(result)\n",
        "del result"
      ]
    }
  ],
  "metadata": {
    "colab": {
      "provenance": []
    },
    "kernelspec": {
      "display_name": "Python 3",
      "name": "python3"
    },
    "language_info": {
      "codemirror_mode": {
        "name": "ipython",
        "version": 3
      },
      "file_extension": ".py",
      "mimetype": "text/x-python",
      "name": "python",
      "nbconvert_exporter": "python",
      "pygments_lexer": "ipython3",
      "version": "3.12.2"
    }
  },
  "nbformat": 4,
  "nbformat_minor": 0
}
